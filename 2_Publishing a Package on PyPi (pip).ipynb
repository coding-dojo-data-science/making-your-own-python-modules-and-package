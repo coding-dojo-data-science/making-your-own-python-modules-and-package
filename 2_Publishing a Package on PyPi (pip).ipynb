{
 "cells": [
  {
   "cell_type": "markdown",
   "metadata": {},
   "source": [
    "# Part 4: Publishing a Package on PyPi (pip)"
   ]
  },
  {
   "cell_type": "markdown",
   "metadata": {},
   "source": [
    "- The infrastructure of a package that will be deployed on PyPi is going to be much more involved than our simple local package. \n",
    "\n",
    "- The easiest way to get up and running is to use the `cookiecutter` package!\n",
    "\n",
    "    -  [Cookiecutter](https://cookiecutter-pypackage.readthedocs.io/en/latest/) python package\n",
    "        - For the total package infrastructure, with the opton of setting up automation and documentation generation. "
   ]
  },
  {
   "cell_type": "markdown",
   "metadata": {},
   "source": [
    "## Before You Begin"
   ]
  },
  {
   "cell_type": "markdown",
   "metadata": {},
   "source": [
    "### Open the CookieCutter Tutorial\n",
    "\n",
    "- [ ] **Open Cookiecutter's [official tutorial from their documentation.](https://cookiecutter-pypackage.readthedocs.io/en/latest/tutorial.html)**\n",
    "    - Its very good overall but I suggest doing a few steps a little differently. \n",
    "- [ ] **Make sure to reference BOTH my instructions below as well as the official tutorial.**\n",
    "    - Make **read my recommended steps first,** as I suggest doing some steps earlier than the tutorial does. "
   ]
  },
  {
   "cell_type": "markdown",
   "metadata": {},
   "source": [
    "### Create Required Accounts    \n",
    "    \n",
    "  1. [ ]  **Go to PyPi.org and \"Register\" a new account. [REQUIRED]** \n",
    "     - PyPi.org is the offical service that hosts pip-installable packages. \n",
    "        - You will need your account name very soon, during the initial cookie-cutting step below. \n",
    "        - You will need your password later,  when you are ready to upload your package to PyPi.\n",
    "        \n",
    ">    - To simplify logging into PyPi, **I recommend saving your login credentials in `.pypirc` file.**\n",
    "        - [See the official Python tutorial.](https://packaging.python.org/specifications/pypirc/)\n",
    "    \n",
    "2. [ ] **Register an account on [readthedocs.org](https://readthedocs.org/) [OPTIONAL]**\n",
    "    - Readthedocs will host your generated user documentation for your package.\n",
    "    - Note: Cookiecutter will fill in a lot of the documentation basics for you.\n",
    "    - Note: There is an additional advanced method to auto-generate all documentation from docstrings, which I will mention in the tutorial below.\n",
    "\n",
    "___"
   ]
  },
  {
   "cell_type": "markdown",
   "metadata": {},
   "source": [
    "# 📚 **GUIDE: USING COOKIECUTTER TO MAKE YOUR PACKAGE**\n",
    "- Companion to **[official tutorial from their documentation.](https://cookiecutter-pypackage.readthedocs.io/en/latest/tutorial.html)**"
   ]
  },
  {
   "cell_type": "markdown",
   "metadata": {},
   "source": [
    "### **Alternative Step 1**: Install Cookiecutter\n",
    "- Ignore the tutorial instructions that say to: \n",
    "use `virtualenv ~/.virtualenvs/mypackage`\n",
    "and `source bin/activate`.\n",
    "\n",
    "- We have Anaconda environments, so we will clone our current environment instead of using virtualenv\n",
    "\n",
    "\n",
    "- [ ] **Create a new virtual environment**, preferably by cloning your current one.\n"
   ]
  },
  {
   "cell_type": "markdown",
   "metadata": {},
   "source": [
    "#### To Clone Your Environment Via the Terminal"
   ]
  },
  {
   "cell_type": "markdown",
   "metadata": {},
   "source": [
    ">Windows users: if \"conda\" commands cause an error, use \"source\" instead of \"conda\""
   ]
  },
  {
   "cell_type": "markdown",
   "metadata": {},
   "source": [
    "- To clone your dojo-env as a new environment called \"dev-env\", run the following command from any terminal window.\n",
    "\n",
    "```bash\n",
    "conda create --clone dojo-env  --name dev-env\n",
    "```\n",
    "\n",
    "- Cloning will take up to a few minutes. \n",
    "    - Once its done you should see instructions on how to activate your new env.\n",
    "    \n",
    "    \n",
    "- Activate your new dev-env and add its kernel to Jupyter:\n",
    "\n",
    "```bash\n",
    "conda activate dev-env\n",
    "python -m ipykernel install --user --name dev-env --display-name \"Python (dev-env)\"\n",
    "```\n",
    "\n",
    "- Make sure you are using your dev-env before running the following pip install:\n",
    "\n",
    "```bash\n",
    "pip install cookiecutter\n",
    "```"
   ]
  },
  {
   "cell_type": "markdown",
   "metadata": {},
   "source": [
    "### Step 2: Generate Your Package\n"
   ]
  },
  {
   "cell_type": "markdown",
   "metadata": {},
   "source": [
    "- In your terminal `cd` into the folder where you want to create your new package's repo.\n",
    "    - example:\n",
    "        `cd ~/Documents/GitHub`"
   ]
  },
  {
   "cell_type": "markdown",
   "metadata": {},
   "source": [
    "- Run the following command now that cookie cutter is installed and that you have `cd`'d into the folder where you want to create your package repo:\n",
    "\n",
    "```bash\n",
    "cookiecutter https://github.com/audreyr/cookiecutter-pypackage.git\n",
    "```\n",
    "- **Cookiecutter will then ask you a series of questions about what name and features your package should have.** \n",
    "    - **Some of these are NOT obvious, so I've explained them below:**"
   ]
  },
  {
   "cell_type": "markdown",
   "metadata": {},
   "source": [
    "#### Cookiecutter Prompts and recommended answers:\n",
    "\n",
    "- **Cookiecutter will ask you several questions during the cookie-cutting process, [check this resouce to see the descriptions for each prompt.](https://cookiecutter-pypackage.readthedocs.io/en/latest/prompts.html)**"
   ]
  },
  {
   "cell_type": "markdown",
   "metadata": {},
   "source": [
    "#### The cookiecutter options I selected for bs_ds were as follows:\n",
    "- **\"project_slug\"** \n",
    "    - This will be the package name and needs to be a valid repository name.\n",
    "    - It should be something terminal-syntax friendly(no -'s or spaces, etc.)\n",
    "    \n",
    "- **\"project_name\"**\n",
    "    - Descriptive name that will appears in all of the generated documentation. \n",
    "    - It can have spaces and any characters that you wish. \n",
    "- **\"use_pytest\"**:\n",
    "    - whether to use pytest for unittests\n",
    "    - use default 'n'\n",
    "    \n",
    "- **\"use_pypi_deployment_with_travis\"**:\n",
    "    - use 'y' for auto-deployment with travis-ci.com (will need an account, as described above)\n",
    "    - **use 'n' for a simple non-automated package deployment workflow.**\n",
    "   \n",
    "    \n",
    "- **\"add_pyup_badge\"**:\n",
    "    - use default 'n'\n",
    "- **\"Select command_line_interface:\"**\n",
    "    - I suggest option 2 for No command-line interface. \n",
    "- **\"Select open source license\"**\n",
    "    - This is an important choice that determines what people are allowed to do with your code with or without your permission. \n",
    "        - Consult https://choosealicense.com/ (github website explaining licenses) for information.\n",
    "    - Note: bs_ds is published using option 5 - GNU General Public License v3, which choosealicense.com defines as:\n",
    ">\"The GNU GPLv3 also lets people do almost anything they want with your project, except to distribute closed source versions.\"\n",
    "\n",
    "- **Cookiecutter will then create a new folder  inside of your main repo folder, whose name is determined by the \"project_slug\" entered above.**\n",
    "\n",
    "<br><br>\n",
    "    "
   ]
  },
  {
   "cell_type": "markdown",
   "metadata": {},
   "source": [
    "### **Alternative Step 3**: Create a GitHub Repo"
   ]
  },
  {
   "cell_type": "markdown",
   "metadata": {},
   "source": [
    "- In your terminal, after running the cookiecutter command and entering all of the project information:\n",
    "    - `cd` into the new folder created by cookiecutter (will match the project_slug)\n",
    "    - Use the following git command to turn the folder into a repo:\n",
    "```bash\n",
    "git init\n",
    "```\n",
    "\n",
    "\n",
    "- **Now open GitHub desktop**, click on the drop down menu for current repository (top left corner) and select `Add existing repository`\n",
    "    - A file browser will open, find the folder you just created with cookiecutter and hit Ok/Open\n",
    "- Save a commit for your package-thus-far using GitHub desktop.\n",
    "    - Recommended commit message \"Initial package skeleton\"\"\n",
    "    - Push your changes to github"
   ]
  },
  {
   "cell_type": "markdown",
   "metadata": {},
   "source": [
    "### Step 4: Install Dev Requirements"
   ]
  },
  {
   "cell_type": "markdown",
   "metadata": {},
   "source": [
    "- Your terminal should still be in your `dev-env` and in the folder created by cookie cutter.\n",
    "\n",
    "- This folder contains a file called requirements_dev.txt.\n",
    "\n",
    "- It contains a list of packages that we will need to maintain our package. \n",
    "\n",
    "- Install the packages required:\n",
    "```pip install -r requirements_dev.txt```"
   ]
  },
  {
   "cell_type": "markdown",
   "metadata": {},
   "source": [
    "### We will be skipping Steps 5,6, and 7 today (see appendix if interested)\n",
    "\n",
    "- Step 5, the automated deployment with travis-CI section due to the complexity and extensive troubleshooting involved.\n",
    "- Step 6 is for generating the documentation, which we will not be doing today. \n",
    "- Step 7 is for tracking changes in dependencies for your package. "
   ]
  },
  {
   "cell_type": "markdown",
   "metadata": {},
   "source": [
    "### Step 8: Release on PyPi"
   ]
  },
  {
   "cell_type": "markdown",
   "metadata": {},
   "source": [
    "\n",
    "### **Official Deployment Installations [[source](https://packaging.python.org/tutorials/packaging-projects/)]:**\n",
    "\n",
    "- [ ] To *register* your new package with PyPi for the very first version, you must **create and upload the very first version** of your package. \n",
    "\n",
    "\n",
    "- CHECK THE LINK ABOVE FOR WINDOWS-SPECIFIC INSTRUCTIONS!\n",
    "    - See the [\"Generating Distribution Archives\" section.](https://packaging.python.org/en/latest/tutorials/packaging-projects/#generating-distribution-archives)\n",
    "    \n",
    "    \n",
    "- Official Steps (verified 05/13/22)\n",
    "    - Run the following 3 installation/upgrade comands:\n",
    "        - `python3 -m pip install --upgrade pip`\n",
    "        - `python3 -m pip install --upgrade build`\n",
    "        - `python3 -m pip install --upgrade twine`\n",
    "    - In your terminal (in the package repo folder), run `python3 -m build`\n",
    "    - Once the process has completed, upload the created files (in the dist folder) using `twine`:\n",
    "    - `twine upload dist/*`\n",
    "\n",
    "- Thats it! You can go to PyPi.org, log into your account and you should see your package appear under \"Your Projects\"  \n",
    "    - **After a couple moments, your package should be available on pip.<br>\n",
    "    ```pip install my_package_name``` to install locally or <br>\n",
    "    ```!pip install my_package_name``` to install in a cloud notebook. \n",
    "    "
   ]
  },
  {
   "cell_type": "markdown",
   "metadata": {},
   "source": [
    "# Adding Your Code to Your Package"
   ]
  },
  {
   "cell_type": "markdown",
   "metadata": {},
   "source": [
    "- When working on your package/modules, I highly recommend using **Microsoft Visual Studio Code.**\n",
    "    - Visual Studio was likely installed with Anaconda, but if it wasn't. Open Anaconda Navigator, and look for Visual Studio code on the Home tab, in the same section as Jupyter Lab and Jupyter Notebooks.\n",
    "\n",
    "- **The easiest way to manage all of your package's setup files and modules is to the the File > Open Folder option and select your repo's main folder.**"
   ]
  },
  {
   "cell_type": "markdown",
   "metadata": {},
   "source": [
    "## To Release a New Version of Your Package.\n",
    "\n",
    "- Deployment workflow:\n",
    "    1. If you are creating docs (optional): generate docs with `python docs/conf.py` \n",
    "    2. Commit all changes.\n",
    "    3. **Increase your package's version # with bump2version `bump2version patch` or `bump2version minor`**\n",
    "    4. Build distribution archives: `python -m build`\n",
    "    5. Upload to twine: `twine upload dist/*`\n",
    "        - When prompted, enter your PyPi.org username and password. \n",
    "        - To simplify logging into PyPi, **I recommend saving your login credentials in `.pypirc` file.**\n",
    "            - [See the official Python tutorial.](https://packaging.python.org/specifications/pypirc/)\n",
    "    \n",
    "    "
   ]
  },
  {
   "cell_type": "markdown",
   "metadata": {},
   "source": [
    "# Important Files to Customize"
   ]
  },
  {
   "cell_type": "markdown",
   "metadata": {},
   "source": [
    "## Important Files You Will Want to Edit:"
   ]
  },
  {
   "cell_type": "markdown",
   "metadata": {},
   "source": [
    "### The files we will discuss below:\n",
    "-  **Module/submodule files (where your put your code)**\n",
    "     -  init.py\n",
    "     -  module.py\n",
    "-  **Package creation/installation requirement settings:**\n",
    "     -  setup.py\n",
    "- **Documentation creation settings:**\n",
    "     -  conf.py\n",
    "- **Versioning and Automated deployment**\n",
    "     - setup.cfg\n",
    "     - travis.yml"
   ]
  },
  {
   "cell_type": "markdown",
   "metadata": {},
   "source": [
    "#### Your package __init__ and module .py files:\n",
    "- Inside of your main repo folder, you should have your project_slug folder (where project_slug = your package's name)\n",
    "- **There should be 2 files inside that folder:  __init__.py, and project_slug.py**\n",
    "     - **init.py is the most critical file of your package.**  When you import your package, you are actually running the init.py file and importing the functions inside it.\n",
    "        - **The simplest way to add your own functions is to add them to the __init__.py file.**\n",
    "            - When you use \n",
    "            `import package_name`:\n",
    "                - The functions and commands contained in your __init__.py file will be imported under your package's name. \n",
    "                - Example:<br>```package_name.some_function()```\n",
    "            -  As with all python packages, you can assign it a short handle to make accessing your functions less tedious:\n",
    "                - Example<br>  ```import package_name as pn\n",
    "                pn.some_function()```\n",
    "                    \n",
    "            - If you use ```from package_name import *```:\n",
    "                - All of the functions inside of the init file will be available without needing to specify the package.  \n",
    "\n",
    "                - Example:<br>\n",
    "                ```from package_name import *```<br>```some_function()```\n",
    "        - **The more advanced way to add your own functions is to add them as a sub-module.**\n",
    "            - The project_slug.py file is actually a submodule of your package, but shares the same name.\n",
    "                - For bs_ds, we have many functions stored inside of the package submodule:\n",
    "                    - Which is accessed by bs_ds.bs_ds which is the (package_name).(submodule_name)\n",
    "                    - The package name is essentially the project_slug folder and then the submodule name is specifying which .py file (INSIDE of that folder) should be imported.\n",
    "            - See the screenshot below of bs_ds's init file and how it imports submodules. \n",
    "\n",
    "        \n",
    "#### Setup.py\n",
    "- [ ]  Adding dependencies to be installed with your package:\n",
    "    - At the top of the file, you will see an empty list called requirements<br>\n",
    "    ```requirements = [ ]```\n",
    "    - Add any packages that you would like to be installed with your package. \n",
    "        -  If the user is missing any of these pip will install them as well. <br>\n",
    "    ```requirements = ['numpy','pandas','scikit-learn','matplotlib','scipy','pprint']```\n",
    "\t\t\n",
    "#### Controlling Documentation Generation - conf.py\n",
    "- Documentation generation is done using [Sphinx](http://www.sphinx-doc.org/en/master/index.html)\n",
    "\n",
    "- **conf.py** controls the settings for the creation of your documentation.\n",
    "     - [Sphinx's help page on conf.py](http://www.sphinx-doc.org/en/master/usage/quickstart.html#basic-configuration)\n",
    "\n",
    "- [Read how to create documentation from your functions' docstrings using \"sphinx.ext.autodoc\" works](http://www.sphinx-doc.org/en/master/usage/extensions/autodoc.html) \n",
    "     - Add this function to the end of conf.py for auto-generated of help from docstrings. \n",
    "\n",
    "```python\n",
    "def run_apidoc(_):\n",
    "\tfrom sphinx.ext.apidoc import main\n",
    "\timport os\n",
    "\timport sys\n",
    "\tsys.path.append(os.path.join(os.path.dirname(__file__), '..'))\n",
    "\tcur_dir = os.path.abspath(os.path.dirname(__file__))\n",
    "\tmodule = os.path.join(cur_dir,\"..\",\"bs_ds\")\n",
    "\tmain(['-o', cur_dir, module,'-M','--force'])\n",
    "\n",
    "def setup(app):\n",
    "\tapp.connect('builder-inited', run_apidoc)\n",
    "```\n",
    "\n",
    "\n",
    "### setup.cfg\n",
    "\n",
    "- [ ] If you removed the ```tags:true``` line from travis.yml, you should also remove:\n",
    "```tag = True```under [bumpversion]\n",
    "```python\n",
    "[bumpversion]\n",
    "current_version = 0.1.0\n",
    "commit = True\n",
    "tag = True\n",
    " ```\n",
    "    - This means that instead of waiting for a special --tagged commit to initiate build testing, doc generation, and deployment, the process will be triggered by any commit.\n",
    "[!]\n",
    "\n",
    "\n",
    "### travis.yml\n",
    "**travis.yml controls the build testing and deployment process.**\n",
    "- At the top of the file, there is a list of python versions (3.6, 3.5, etc.)\n",
    "    - [ ] You may want to remove versions of python that your package cannot support. \n",
    "        - For example, f-string formatting wasn't added until Python 3.6 <br> ```\n",
    "        print(f\"Print the {variable_contents}')```\n",
    "    - Otherwise, your build will fail when travis tests the older version of python, since you used functions that were not compatible with old versions.\n",
    "    - bs_ds only supports 3.6 at the moment. \n",
    "- At the bottom of the file, there is a ```deploy:``` section. \n",
    "    - I personally had difficult using ```--tags``` in order to trigger the deployment of bs_ds.\n",
    "    - I removed the ```tags:true``` line under `on:`, which is at the bottom of the ```deploy:``` section.\n",
    "    \n",
    "___"
   ]
  },
  {
   "cell_type": "markdown",
   "metadata": {
    "heading_collapsed": true
   },
   "source": [
    "# Appendix"
   ]
  },
  {
   "cell_type": "markdown",
   "metadata": {
    "hidden": true
   },
   "source": [
    "### My example packages\n",
    "- https://github.com/jirvingphd/cdds (newer, but not as fancy, in terms of documentation and auto-deployment)\n",
    "\n",
    "-"
   ]
  },
  {
   "cell_type": "markdown",
   "metadata": {
    "hidden": true
   },
   "source": [
    "## Skipped steps 5-7"
   ]
  },
  {
   "cell_type": "markdown",
   "metadata": {
    "hidden": true
   },
   "source": [
    "> Caution: I have not revisited the following steps recently and cannot guarantee that everything will work the same "
   ]
  },
  {
   "cell_type": "markdown",
   "metadata": {
    "hidden": true
   },
   "source": [
    "### ~~**Official Step 5: Set Up Travis CI**~~\n",
    "\n",
    "- [ ] **In order to follow the offical step 5, you will need to install Travis CLI tool, which requires Ruby.**<br> [Instructions are located here and are OS-specific](https://cookiecutter-pypackage.readthedocs.io/en/latest/travis_pypi_setup.html#travis-pypi-setup), \n",
    "    - For MacOS, they recommend using the Homebrew travis package:\n",
    "        - ```brew install travis```<br><br>\n",
    "    - For windows, you will need to install ruby and then use ```gem install``` to install travis.\n",
    "        - [ ] [Install Ruby](http://www.ruby-lang.org/en/downloads/) (if not already installed on your system)\n",
    "        - [ ] Install Travis CLI tool: (See the OS-specifc instructions directly above)\n",
    "            - After Ruby is installed, enter the following command to install Travis CLI tool. <br> ```gem install travis -v 1.8.10 --no-rdoc --no-ri```<br><br>\n",
    "        \n",
    "- [ ] **Once Travis CLI is installed,  you may continue to follow the [official tutorial instructions for step #5](https://cookiecutter-pypackage.readthedocs.io/en/latest/tutorial.html#step-5-set-up-travis-ci)**\n",
    "    - NOTE: Here is where you will need to have your password for PyPi available. \n",
    "        - **CAUTION:**<br> When entering your PyPi username and  password in the terminal, there will be **NO VISUAL INDICATOR that you have typed your password.** <br><br>\n",
    "        - There are no characters displayed and no dots or placeholders to indicated the # of characters entered, so **carefully enter your password when prompted and press enter.**<br><br>\n",
    "    - **TROUBLESHOOTING NOTE: If Travis doesn't does not ask for your password after entering username:**\n",
    "        - I experienced an issue when attempting to follow step #5, after entering the ```travis encrypt --add deploy.password``` command, you should first be prompted for your username, then your password. \n",
    "        - I use Git Bash for my main terminal on Windows and for some reason **Travis would hang after I entered my username and would never ask me for password.**\n",
    "            - I got around the issue by **using the normal windows cmd prompt for this step instead of using GitBash.**  (This is a one-time step that will encrypt your password and store it in a config file so you never have to enter it again.)"
   ]
  },
  {
   "cell_type": "code",
   "execution_count": null,
   "metadata": {
    "hidden": true
   },
   "outputs": [],
   "source": []
  }
 ],
 "metadata": {
  "kernelspec": {
   "display_name": "Python (dojo-env)",
   "language": "python",
   "name": "dojo-env"
  },
  "language_info": {
   "codemirror_mode": {
    "name": "ipython",
    "version": 3
   },
   "file_extension": ".py",
   "mimetype": "text/x-python",
   "name": "python",
   "nbconvert_exporter": "python",
   "pygments_lexer": "ipython3",
   "version": "3.8.13"
  },
  "toc": {
   "base_numbering": 1,
   "nav_menu": {},
   "number_sections": false,
   "sideBar": true,
   "skip_h1_title": false,
   "title_cell": "Table of Contents",
   "title_sidebar": "Contents",
   "toc_cell": false,
   "toc_position": {
    "height": "calc(100% - 180px)",
    "left": "10px",
    "top": "150px",
    "width": "271.996px"
   },
   "toc_section_display": true,
   "toc_window_display": true
  }
 },
 "nbformat": 4,
 "nbformat_minor": 4
}
